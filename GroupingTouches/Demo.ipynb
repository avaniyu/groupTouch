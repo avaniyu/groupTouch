{
 "cells": [
  {
   "cell_type": "code",
   "execution_count": null,
   "metadata": {},
   "outputs": [],
   "source": [
    "import tkinter as tk\n",
    "from tkinter import ttk \n",
    "import numpy as np \n",
    "%matplotlib inline\n",
    "import matplotlib\n",
    "import matplotlib.pyplot as plt \n",
    "from xml.dom import minidom\n",
    "import csv\n",
    "import time as tm\n",
    "import datetime\n",
    "\n",
    "class Demo(tk.Frame):\n",
    "\n",
    "\tdef __init__(self, parent=None):\n",
    "\t\ttk.Frame.__init__(self, parent)\n",
    "\t\tself.pack()\n",
    "\t\tself.GUI()\n",
    "\n",
    "\tdef GUI(self):\n",
    "\t\tself.frameUserIndicator = tk.Canvas(self)\n",
    "\t\tself.frameControlPanel = tk.Canvas(self)\n",
    "\t\tself.frameTableTop = tk.Canvas(self)\n",
    "\n",
    "\t\tself.frameUserIndicator.grid(row=0, column=0)\n",
    "\t\tself.frameControlPanel.grid(row=0, column=1)\n",
    "\t\tself.frameTableTop.grid(row=1, column=0, columnspan=2)\n",
    "\n",
    "\t\t# user indicators\n",
    "\t\tamountUsers = 2\n",
    "\t\tself.userIndicators = [0 for i in range(amountUsers)]\n",
    "\t\tfor i in range(amountUsers):\n",
    "\t\t\tself.userIndicators[i] = tk.Label(self.frameUserIndicator, \n",
    "\t\t\t\t\t\t\t\t\ttext=\"User \"+str(i+1), background='green', foreground='white')\n",
    "\t\t\tself.userIndicators[i].grid(row=0, column=i)\n",
    "\n",
    "\t\t# control frame\n",
    "\t\tself.btnStart = tk.Button(self.frameControlPanel, text=\"Start\", width=10)\n",
    "\t\tself.btnStart.grid(row=0, column=0)\n",
    "\t\tself.btnStart.bind('<Button-1>', self.groupTouch)\n",
    "\n",
    "\t\t# PixelSense tabletop\n",
    "\t\tself.tabletop = tk.Canvas(self.frameTableTop, borderwidth=2, relief=tk.GROOVE, width=651, height=419.4)\n",
    "\t\tself.tabletop.grid(row=0, column=0)\n",
    "\n",
    "\tdef groupTouch(event):\n",
    "\t\tprint(\"groupTouch()\")\n",
    "\n",
    "if __name__ == \"__main__\":\n",
    "    root = tk.Tk()\n",
    "    root.title(\"Group Touch Demo\")\n",
    "    root.geometry(\"1000x600\")\n",
    "    root.resizable(width=False, height=False)\n",
    "    Demo(root).mainloop()"
   ]
  }
 ],
 "metadata": {
  "kernelspec": {
   "display_name": "Python 3",
   "language": "python",
   "name": "python3"
  },
  "language_info": {
   "codemirror_mode": {
    "name": "ipython",
    "version": 3
   },
   "file_extension": ".py",
   "mimetype": "text/x-python",
   "name": "python",
   "nbconvert_exporter": "python",
   "pygments_lexer": "ipython3",
   "version": "3.6.1"
  }
 },
 "nbformat": 4,
 "nbformat_minor": 2
}
