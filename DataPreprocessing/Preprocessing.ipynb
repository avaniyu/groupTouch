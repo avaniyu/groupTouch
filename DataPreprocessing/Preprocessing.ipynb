{
 "cells": [
  {
   "cell_type": "code",
   "execution_count": 1,
   "metadata": {},
   "outputs": [
    {
     "ename": "SyntaxError",
     "evalue": "name 'touchPairs' is used prior to global declaration (<ipython-input-1-cb70655d0405>, line 47)",
     "output_type": "error",
     "traceback": [
      "\u001b[1;36m  File \u001b[1;32m\"<ipython-input-1-cb70655d0405>\"\u001b[1;36m, line \u001b[1;32m47\u001b[0m\n\u001b[1;33m    global touchPairs\u001b[0m\n\u001b[1;37m    ^\u001b[0m\n\u001b[1;31mSyntaxError\u001b[0m\u001b[1;31m:\u001b[0m name 'touchPairs' is used prior to global declaration\n"
     ]
    }
   ],
   "source": [
    "import numpy as np \n",
    "%matplotlib inline\n",
    "import matplotlib\n",
    "import matplotlib.pyplot as plt \n",
    "from xml.dom import minidom\n",
    "# import itertools.combinations\n",
    "\n",
    "class TouchPair:\n",
    "\tdef __init__(self, classification, orientation, distance, time):\n",
    "\t\tself.classification = classification\n",
    "\t\tself.orientation = orientation\n",
    "\t\tself.distance = distance\n",
    "\t\tself.time = time\n",
    "\n",
    "# form a touch pair with 3 calculated features\n",
    "def pair(touchPoint, lastPoint):\n",
    "\tprint(\"pair()\")\n",
    "\torientation = float(lastPoints[1])\n",
    "\torientation = float(touchPoint[1]) - float(lastPoints[1])\n",
    "\n",
    "\tyDistance = abs(touchPoints[2] - lastPoints[2])\n",
    "\txDistance = abs(touchPoints[3] - lastPoints[3])\n",
    "\tdistance = np.sqrt([yDistance, xDistance])\n",
    "\ttime = touchPoints[4] - lastPoints[4]\n",
    "\tif touchPoint.attributes['student'].value == lastPoints[0]:\n",
    "\t\tclassification = \"same\"\n",
    "\telse:\n",
    "\t\tclassification = \"different\"\n",
    "\ttouchPair = TouchPair(classification, orientation, distance, time)\n",
    "\tglobal touchPairs\n",
    "\ttouchPairs.append(touchPair)\n",
    "\tprint(\"pair()\")\n",
    "\n",
    "\n",
    "\tif __name__ == \"__main__\":\n",
    "\t\t# read data from xml files\n",
    "\t\txmldoc = minidom.parse('2 - Heuristics.xml')\n",
    "\t\tlogs = xmldoc.getElementsByTagName('Point')\n",
    "\t\ttouchPoints = [[0 for j in range(5)] for i in range(len(logs))]\n",
    "\t\tfor i in range(len(logs)):\n",
    "\t\t\ttouchPoints[i][0] = logs[i].attributes['student'].value\n",
    "\t\t\ttouchPoints[i][1] = logs[i].attributes['o'].value\n",
    "\t\t\ttouchPoints[i][2] = logs[i].attributes['y'].value\n",
    "\t\t\ttouchPoints[i][3] = logs[i].attributes['x'].value\n",
    "\t\t\ttouchPoints[i][4] = logs[i].attributes['timestamp'].value\n",
    "\n",
    "\t\tglobal touchPairs\n",
    "\t\ttouchPairs = []\n",
    "\n",
    "\t\t# initialize lastPoints with no.1 touchpoint\n",
    "\t\t# list columns are in order of student, o, y, x, timestamp\n",
    "\t\tlastPoints = [touchPoints[0][0],\n",
    "\t\t\t\t\t\ttouchPoints[0][1],\n",
    "\t\t\t\t\t\ttouchPoints[0][2],\n",
    "\t\t\t\t\t\ttouchPoints[0][3],\n",
    "\t\t\t\t\t\ttouchPoints[0][4]]\n",
    "\t\t# lastPoints[0].append('Jiayao')\n",
    "\n",
    "\t\tfor i in range(1, len(logs)):\n",
    "\t\t\tif len(lastPoints) == 1:\n",
    "\t\t\t\tpair(touchPoints[i], lastPoints[0])\n",
    "\t\t\telse:\n",
    "\t\t\t\tfor j in range(countStudents):\n",
    "\t\t\t\t\tpair(touchPoints[i], lastPoints[j])\n",
    "\n",
    "\t\t# train a MLP in weka using leave-one-out nested cross validation\n",
    "\n"
   ]
  }
 ],
 "metadata": {
  "kernelspec": {
   "display_name": "Python 3",
   "language": "python",
   "name": "python3"
  },
  "language_info": {
   "codemirror_mode": {
    "name": "ipython",
    "version": 3
   },
   "file_extension": ".py",
   "mimetype": "text/x-python",
   "name": "python",
   "nbconvert_exporter": "python",
   "pygments_lexer": "ipython3",
   "version": "3.6.1"
  }
 },
 "nbformat": 4,
 "nbformat_minor": 2
}
