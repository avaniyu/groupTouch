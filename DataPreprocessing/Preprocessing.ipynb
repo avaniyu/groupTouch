{
 "cells": [
  {
   "cell_type": "code",
   "execution_count": 1,
   "metadata": {
    "scrolled": true
   },
   "outputs": [],
   "source": [
    "import numpy as np \n",
    "%matplotlib inline\n",
    "import matplotlib\n",
    "import matplotlib.pyplot as plt \n",
    "from xml.dom import minidom\n",
    "import csv\n",
    "import time as tm\n",
    "import datetime\n",
    "\n",
    "class TouchPair:\n",
    "\tdef __init__(self, classification, orientation, distance, time):\n",
    "\t\tself.classification = classification\n",
    "\t\tself.orientation = orientation\n",
    "\t\tself.distance = distance\n",
    "\t\tself.time = time\n",
    "\n",
    "# form a touch pair with 3 calculated features\n",
    "def pair(touchPoint, lastPoint, indexLastPoint):\n",
    "\torientation = round((abs(float(touchPoint[1]) - float(lastPoint[1]))) % 1, 5)\n",
    "\tyDistance = abs(float(touchPoint[2]) - float(lastPoint[2]))\n",
    "\txDistance = abs(float(touchPoint[3]) - float(lastPoint[3]))\n",
    "\tdistance = round(np.sqrt(yDistance*yDistance + xDistance*xDistance) / 1557, 3)\n",
    "\ttime = (touchPoint[4] - lastPoint[4])*1000\n",
    "\tglobal deltaTimeList\n",
    "\tdeltaTimeList.append(time)\n",
    "\tglobal lastPoints\n",
    "\tif touchPoint[0] == lastPoint[0]:\n",
    "\t\tclassification = \"same\"\n",
    "\t\tlastPoints[indexLastPoint] = touchPoint\n",
    "\t\t# print(\"same\")\n",
    "\telse:\n",
    "\t\tclassification = \"different\"\n",
    "\t\tflagNewUser = True\n",
    "\t\tif (len(lastPoints)) > 1:\n",
    "\t\t\tfor i in range(len(lastPoints)):\n",
    "\t\t\t\tif touchPoint[0] == lastPoints[i][0]:\n",
    "\t\t\t\t\tflagNewUser = False\n",
    "\t\t\t\t\t# print(\"flag\")\n",
    "\t\tif flagNewUser == True:\n",
    "\t\t\tlastPoints.append(touchPoint)\n",
    "\t# \tprint(\"different\")\n",
    "\t# \tprint(touchPoint[0])\n",
    "\t# \tprint(lastPoint[0])\n",
    "\t# \tprint(lastPoints)\n",
    "\t# print(\"------------------\")\n",
    "\ttouchPair = TouchPair(classification, orientation, distance, time)\n",
    "\tglobal touchPairs\n",
    "\ttouchPairs.append(touchPair)\t\n",
    "\n",
    "if __name__ == \"__main__\":\n",
    "\t# read data from xml files\n",
    "\tno = \"17\"\n",
    "\txmldoc = minidom.parse('17 - Wireframes.xml')\n",
    "\tlogs = xmldoc.getElementsByTagName('Point')\n",
    "\ttouchPoints = []\n",
    "\tdeltaTimeList = []\n",
    "\t# remove outliers with elapsed time between touches above 80% of full dataset\n",
    "\t# for i in range(300):\n",
    "\tfor i in range(len(logs)):\n",
    "\t\tif '?' not in logs[i].attributes['student'].value and logs[i].attributes['student'].value != \"\":\n",
    "\t\t\tif i == 0:\n",
    "\t\t\t\ttempTimeStr = logs[0].attributes['timestamp'].value\n",
    "\t\t\t\ttempTimeFormat = datetime.datetime.strptime(tempTimeStr, \"%Y/%m/%d %H:%M:%S:%f\")\n",
    "\t\t\t\ttempTime = tm.mktime(tempTimeFormat.timetuple())+(tempTimeFormat.microsecond/1000000.0)\n",
    "\t\t\t\tthisTime = tempTime\n",
    "\t\t\telse:\n",
    "\t\t\t\tthisTimeStr = logs[i].attributes['timestamp'].value\n",
    "\t\t\t\tthisTimeFormat = datetime.datetime.strptime(thisTimeStr, \"%Y/%m/%d %H:%M:%S:%f\")\n",
    "\t\t\t\tthisTime = tm.mktime(thisTimeFormat.timetuple())+(thisTimeFormat.microsecond/1000000.0)\n",
    "\t\t\tdeltaTime = (thisTime - tempTime)*1000\n",
    "\t\t\tdeltaTimeList.append(deltaTime)\n",
    "\t\t\ttempTime = thisTime\n",
    "\t\t\ttouchPoints.append([logs[i].attributes['student'].value,\n",
    "\t\t\t\t\tlogs[i].attributes['o'].value,\n",
    "\t\t\t\t\tlogs[i].attributes['y'].value,\n",
    "\t\t\t\t\tlogs[i].attributes['x'].value,\n",
    "\t\t\t\t\tthisTime,\n",
    "\t\t\t\t\tdeltaTime])\n",
    "\tdeltaTimeList = sorted(deltaTimeList, reverse=True)\n",
    "\tdeltaTimeThreshold = deltaTimeList[int(0.2*len(deltaTimeList))]\n",
    "\t\n",
    "\tcountDel = 0\n",
    "\tfor i in range(len(touchPoints)-1):\n",
    "\t\tif touchPoints[i-countDel][5] > deltaTimeThreshold:\n",
    "\t\t\tdel touchPoints[i-countDel]\n",
    "\t\t\tcountDel += 1\n",
    "\n",
    "\t# global touchPairs\n",
    "\ttouchPairs = []\n",
    "\n",
    "\t# initialize lastPoints with no.1 touchpoint\n",
    "\t# list columns are in order of student, o, y, x, timestamp\n",
    "\tlastPoints = [[touchPoints[0][0],\n",
    "\t\t\t\t\ttouchPoints[0][1],\n",
    "\t\t\t\t\ttouchPoints[0][2],\n",
    "\t\t\t\t\ttouchPoints[0][3],\n",
    "\t\t\t\t\ttouchPoints[0][4]]]\n",
    "\n",
    "\tcountDiff = 0\n",
    "\n",
    "\tfor i in range(1, len(touchPoints)):\n",
    "\t\tif len(lastPoints) == 1:\n",
    "\t\t\tpair(touchPoints[i], lastPoints[0], 0)\n",
    "\t\telse:\n",
    "\t\t\tfor j in range(len(lastPoints)):\n",
    "\t\t\t\tpair(touchPoints[i], lastPoints[j], j)\n",
    "\n",
    "\t# normalize time feature and delete outliers\n",
    "\tdeltaTimeList = sorted(deltaTimeList, reverse=True)\n",
    "\tdeltaTimeThreshold = deltaTimeList[int(0.2*len(deltaTimeList))-1]\n",
    "\n",
    "\tcountDel = 0\n",
    "\tfor i in range(len(touchPairs)):\n",
    "\t\tif touchPairs[i-countDel].time > deltaTimeThreshold:\n",
    "\t\t\tdel touchPairs[i-countDel]\n",
    "\t\t\tcountDel += 1\n",
    "\t\telse:\n",
    "\t\t\ttouchPairs[i-countDel].time = round(touchPairs[i-countDel].time / deltaTimeThreshold, 5)\n",
    "\n",
    "\twith open(no+\"touchPairs.csv\",\"a\",newline=\"\") as fp:\n",
    "\t\twriter = csv.writer(fp, dialect='excel', delimiter=',',\n",
    "                            quotechar='\"', quoting=csv.QUOTE_ALL)\n",
    "\t\twriter.writerow([\"classification\", \"orientation\", \"distance\", \"time\"])\n",
    "\t\tfor i in range(len(touchPairs)):\n",
    "\t\t\twriter.writerow([touchPairs[i].classification,\n",
    "\t\t\t\t\t\t\ttouchPairs[i].orientation,\n",
    "\t\t\t\t\t\t\ttouchPairs[i].distance,\n",
    "\t\t\t\t\t\t\ttouchPairs[i].time])\n",
    "\tfp.close()\n",
    "\n",
    "\t# train a MLP in weka using leave-one-out nested cross validation"
   ]
  },
  {
   "cell_type": "code",
   "execution_count": 2,
   "metadata": {},
   "outputs": [
    {
     "data": {
      "text/plain": [
       "[['M', '1.33127', '429.222', '1438.22', 1404733697.804, 1.9998550415039062],\n",
       " ['N', '3.81964', '770.445', '1582.33', 1404733682.48, 5.000114440917969],\n",
       " ['O', '4.0822', '955', '663', 1404733695.483, 2.000093460083008],\n",
       " ['P', '6.09298', '361.667', '196.444', 1404733697.317, 3.000020980834961]]"
      ]
     },
     "execution_count": 2,
     "metadata": {},
     "output_type": "execute_result"
    }
   ],
   "source": [
    "lastPoints"
   ]
  },
  {
   "cell_type": "code",
   "execution_count": 3,
   "metadata": {},
   "outputs": [
    {
     "data": {
      "text/plain": [
       "55606"
      ]
     },
     "execution_count": 3,
     "metadata": {},
     "output_type": "execute_result"
    }
   ],
   "source": [
    "len(touchPairs)"
   ]
  },
  {
   "cell_type": "code",
   "execution_count": 4,
   "metadata": {},
   "outputs": [
    {
     "data": {
      "text/plain": [
       "0.14926"
      ]
     },
     "execution_count": 4,
     "metadata": {},
     "output_type": "execute_result"
    }
   ],
   "source": [
    "touchPairs[100].time"
   ]
  }
 ],
 "metadata": {
  "kernelspec": {
   "display_name": "Python 3",
   "language": "python",
   "name": "python3"
  },
  "language_info": {
   "codemirror_mode": {
    "name": "ipython",
    "version": 3
   },
   "file_extension": ".py",
   "mimetype": "text/x-python",
   "name": "python",
   "nbconvert_exporter": "python",
   "pygments_lexer": "ipython3",
   "version": "3.6.1"
  }
 },
 "nbformat": 4,
 "nbformat_minor": 2
}
